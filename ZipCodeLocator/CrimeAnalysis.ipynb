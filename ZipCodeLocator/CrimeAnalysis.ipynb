{
 "cells": [
  {
   "cell_type": "code",
   "execution_count": 4,
   "id": "6088449f",
   "metadata": {
    "scrolled": true
   },
   "outputs": [],
   "source": [
    "import pandas as pd\n",
    "from geopy.geocoders import Nominatim\n",
    "\n",
    "crimeData = pd.read_csv(\"join_Output.csv\")"
   ]
  },
  {
   "cell_type": "code",
   "execution_count": 6,
   "id": "5aeac404",
   "metadata": {},
   "outputs": [
    {
     "data": {
      "text/plain": [
       "GEOID10  Primary_Ty        \n",
       "60611    CRIMINAL TRESPASS       1\n",
       "         DECEPTIVE PRACTICE      1\n",
       "         THEFT                   1\n",
       "60615    ARSON                   1\n",
       "         ASSAULT               194\n",
       "                              ... \n",
       "60827    ROBBERY                20\n",
       "         SEX OFFENSE             2\n",
       "         STALKING                3\n",
       "         THEFT                  79\n",
       "         WEAPONS VIOLATION      45\n",
       "Length: 210, dtype: int64"
      ]
     },
     "execution_count": 6,
     "metadata": {},
     "output_type": "execute_result"
    }
   ],
   "source": [
    "countOfCrimes = crimeData.pivot_table(index =[\"GEOID10\", 'Primary_Ty'], aggfunc = 'size')\n",
    "countOfCrimes"
   ]
  },
  {
   "cell_type": "code",
   "execution_count": 7,
   "id": "b20bb0bf",
   "metadata": {},
   "outputs": [],
   "source": [
    "countOfCrimes.to_excel(\"CountOfCrimes.xlsx\")"
   ]
  },
  {
   "cell_type": "code",
   "execution_count": null,
   "id": "6437cb9b",
   "metadata": {},
   "outputs": [],
   "source": []
  }
 ],
 "metadata": {
  "kernelspec": {
   "display_name": "Python 3 (ipykernel)",
   "language": "python",
   "name": "python3"
  },
  "language_info": {
   "codemirror_mode": {
    "name": "ipython",
    "version": 3
   },
   "file_extension": ".py",
   "mimetype": "text/x-python",
   "name": "python",
   "nbconvert_exporter": "python",
   "pygments_lexer": "ipython3",
   "version": "3.9.13"
  }
 },
 "nbformat": 4,
 "nbformat_minor": 5
}
